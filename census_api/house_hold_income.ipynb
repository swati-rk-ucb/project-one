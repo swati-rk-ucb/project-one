{
 "cells": [
  {
   "cell_type": "code",
   "execution_count": 1,
   "metadata": {},
   "outputs": [],
   "source": [
    "#use household income api"
   ]
  },
  {
   "cell_type": "code",
   "execution_count": 2,
   "metadata": {},
   "outputs": [],
   "source": [
    "# Dependencies\n",
    "import numpy as np\n",
    "import pandas as pd\n",
    "import matplotlib.pyplot as plt\n",
    "import requests\n",
    "from census import Census\n",
    "import time\n",
    "from pprint import pprint\n",
    "from us import states\n",
    "import gmaps\n",
    " \n",
    "\n",
    "# Census API Key\n",
    "from config import (api_key, weather_api, gkey)\n",
    "\n",
    "\n"
   ]
  },
  {
   "cell_type": "code",
   "execution_count": 3,
   "metadata": {},
   "outputs": [],
   "source": [
    "file_one = \"./UnemploymentReport.csv\"\n",
    "\n",
    "income_df = pd.read_csv(file_one)\n",
    "house_income = income_df[[\"Name\", \"Median Household Income (2016)\"]]\n",
    "house_income = house_income.dropna(how='any')\n"
   ]
  },
  {
   "cell_type": "code",
   "execution_count": 4,
   "metadata": {
    "scrolled": true
   },
   "outputs": [],
   "source": [
    "cities = house_income[\"Name\"]\n",
    "g_lat = []\n",
    "g_lon= []\n",
    "g_name = []\n",
    "\n",
    "for city in cities:\n",
    "    target_url = ('https://maps.googleapis.com/maps/api/geocode/json?'\n",
    "    'address={0}&key={1}').format(city, gkey)\n",
    "    geo_data = requests.get(target_url).json()\n",
    "    g_name.append(city)\n",
    "    g_lat.append(geo_data[\"results\"][0][\"geometry\"][\"location\"][\"lat\"])\n",
    "    g_lon.append(geo_data[\"results\"][0][\"geometry\"][\"location\"][\"lng\"])\n",
    "        \n",
    "\n",
    "# Print the json\n"
   ]
  },
  {
   "cell_type": "code",
   "execution_count": 5,
   "metadata": {},
   "outputs": [],
   "source": [
    "g_dict = {\"Name\": g_name,\n",
    "          \"g_lat\": g_lat,\n",
    "          \"g_lon\": g_lon}\n",
    "\n",
    "g_df = pd.DataFrame(g_dict)\n"
   ]
  },
  {
   "cell_type": "code",
   "execution_count": 23,
   "metadata": {},
   "outputs": [],
   "source": [
    "final_table = pd.merge(house_income, g_df, on=\"Name\", how=\"left\")\n",
    "final_table\n",
    "\n",
    "final_table.to_csv(\"./final_household_income.csv\", index=False, header = True)"
   ]
  },
  {
   "cell_type": "code",
   "execution_count": 7,
   "metadata": {
    "scrolled": false
   },
   "outputs": [],
   "source": [
    "gmaps.configure(api_key=gkey)"
   ]
  },
  {
   "cell_type": "code",
   "execution_count": 24,
   "metadata": {},
   "outputs": [],
   "source": [
    "locations = final_table[[\"g_lat\", \"g_lon\"]].astype(float)\n",
    "\n",
    "household_income = final_table[\"Median Household Income (2016)\"].astype(float)\n",
    "\n"
   ]
  },
  {
   "cell_type": "code",
   "execution_count": 27,
   "metadata": {},
   "outputs": [
    {
     "data": {
      "application/vnd.jupyter.widget-view+json": {
       "model_id": "bf041deb7ffa46399d41a06ad69e795c",
       "version_major": 2,
       "version_minor": 0
      },
      "text/plain": [
       "Figure(layout=FigureLayout(height='420px'))"
      ]
     },
     "metadata": {},
     "output_type": "display_data"
    }
   ],
   "source": [
    "fig = gmaps.figure()\n",
    "\n",
    "heat_layer = gmaps.heatmap_layer(locations, weights=household_income, \n",
    "                                 dissipating=False, max_intensity=100000,\n",
    "                                 point_radius = 1)\n",
    "\n",
    "\n",
    "heat_layer.dissipating = False\n",
    "heat_layer.max_intensity = 100000\n",
    "heat_layer.point_radius = .5\n",
    "\n",
    "fig.add_layer(heat_layer)\n",
    "\n",
    "fig\n"
   ]
  },
  {
   "cell_type": "code",
   "execution_count": 8,
   "metadata": {},
   "outputs": [],
   "source": []
  },
  {
   "cell_type": "code",
   "execution_count": null,
   "metadata": {},
   "outputs": [],
   "source": []
  }
 ],
 "metadata": {
  "kernelspec": {
   "display_name": "Python 3",
   "language": "python",
   "name": "python3"
  },
  "language_info": {
   "codemirror_mode": {
    "name": "ipython",
    "version": 3
   },
   "file_extension": ".py",
   "mimetype": "text/x-python",
   "name": "python",
   "nbconvert_exporter": "python",
   "pygments_lexer": "ipython3",
   "version": "3.6.6"
  }
 },
 "nbformat": 4,
 "nbformat_minor": 2
}
