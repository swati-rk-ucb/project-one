{
 "cells": [
  {
   "cell_type": "code",
   "execution_count": 1,
   "metadata": {},
   "outputs": [],
   "source": [
    "# Dependencies and Setup\n",
    "import matplotlib.pyplot as plt\n",
    "import pandas as pd\n",
    "import requests\n",
    "import time\n",
    "import gmaps\n",
    "\n",
    "#list api keys here\n",
    "from config import (api_key, gkey, sd_api_key, app_id)\n",
    "\n",
    "state = 'Oklahoma'\n",
    "state_code = 40\n",
    "state_abbr = 'OK'"
   ]
  },
  {
   "cell_type": "code",
   "execution_count": 2,
   "metadata": {},
   "outputs": [
    {
     "data": {
      "text/html": [
       "<div>\n",
       "<style scoped>\n",
       "    .dataframe tbody tr th:only-of-type {\n",
       "        vertical-align: middle;\n",
       "    }\n",
       "\n",
       "    .dataframe tbody tr th {\n",
       "        vertical-align: top;\n",
       "    }\n",
       "\n",
       "    .dataframe thead th {\n",
       "        text-align: right;\n",
       "    }\n",
       "</style>\n",
       "<table border=\"1\" class=\"dataframe\">\n",
       "  <thead>\n",
       "    <tr style=\"text-align: right;\">\n",
       "      <th></th>\n",
       "      <th>County</th>\n",
       "      <th>County Code</th>\n",
       "      <th>Census Code</th>\n",
       "    </tr>\n",
       "  </thead>\n",
       "  <tbody>\n",
       "    <tr>\n",
       "      <th>0</th>\n",
       "      <td>Adair County</td>\n",
       "      <td>001</td>\n",
       "      <td>22683</td>\n",
       "    </tr>\n",
       "    <tr>\n",
       "      <th>1</th>\n",
       "      <td>Alfalfa County</td>\n",
       "      <td>003</td>\n",
       "      <td>5642</td>\n",
       "    </tr>\n",
       "    <tr>\n",
       "      <th>2</th>\n",
       "      <td>Atoka County</td>\n",
       "      <td>005</td>\n",
       "      <td>14182</td>\n",
       "    </tr>\n",
       "    <tr>\n",
       "      <th>3</th>\n",
       "      <td>Beaver County</td>\n",
       "      <td>007</td>\n",
       "      <td>5636</td>\n",
       "    </tr>\n",
       "    <tr>\n",
       "      <th>4</th>\n",
       "      <td>Beckham County</td>\n",
       "      <td>009</td>\n",
       "      <td>22119</td>\n",
       "    </tr>\n",
       "  </tbody>\n",
       "</table>\n",
       "</div>"
      ],
      "text/plain": [
       "           County County Code Census Code\n",
       "0    Adair County         001       22683\n",
       "1  Alfalfa County         003        5642\n",
       "2    Atoka County         005       14182\n",
       "3   Beaver County         007        5636\n",
       "4  Beckham County         009       22119"
      ]
     },
     "execution_count": 2,
     "metadata": {},
     "output_type": "execute_result"
    }
   ],
   "source": [
    "url = 'http://api.census.gov/data/2010/sf1?get=P0010001,NAME&for=county:*&in=state:40&key=' + api_key\n",
    "response = requests.get(url).json()\n",
    "county_name = []\n",
    "county_code = []\n",
    "census_variable_code = []\n",
    "counter = 0;\n",
    "for county in response:\n",
    "    if (counter > 0):\n",
    "        county_name.append(county[1])\n",
    "        county_code.append(county[3])\n",
    "        census_variable_code.append(county[0])\n",
    "    counter = counter + 1\n",
    "    \n",
    "all_counties = {\"County\" : county_name,\n",
    "               \"County Code\" : county_code,\n",
    "               \"Census Code\" : census_variable_code}\n",
    "\n",
    "all_counties_df = pd.DataFrame(all_counties)\n",
    "all_counties_df.head()"
   ]
  },
  {
   "cell_type": "code",
   "execution_count": 3,
   "metadata": {},
   "outputs": [
    {
     "data": {
      "text/html": [
       "<div>\n",
       "<style scoped>\n",
       "    .dataframe tbody tr th:only-of-type {\n",
       "        vertical-align: middle;\n",
       "    }\n",
       "\n",
       "    .dataframe tbody tr th {\n",
       "        vertical-align: top;\n",
       "    }\n",
       "\n",
       "    .dataframe thead th {\n",
       "        text-align: right;\n",
       "    }\n",
       "</style>\n",
       "<table border=\"1\" class=\"dataframe\">\n",
       "  <thead>\n",
       "    <tr style=\"text-align: right;\">\n",
       "      <th></th>\n",
       "      <th>Census Code</th>\n",
       "      <th>Census Code (P0040003)</th>\n",
       "      <th>Zip Code</th>\n",
       "    </tr>\n",
       "  </thead>\n",
       "  <tbody>\n",
       "    <tr>\n",
       "      <th>0</th>\n",
       "      <td>146</td>\n",
       "      <td>64</td>\n",
       "      <td>67950</td>\n",
       "    </tr>\n",
       "    <tr>\n",
       "      <th>1</th>\n",
       "      <td>1062</td>\n",
       "      <td>45</td>\n",
       "      <td>73002</td>\n",
       "    </tr>\n",
       "    <tr>\n",
       "      <th>2</th>\n",
       "      <td>20617</td>\n",
       "      <td>1417</td>\n",
       "      <td>73003</td>\n",
       "    </tr>\n",
       "    <tr>\n",
       "      <th>3</th>\n",
       "      <td>857</td>\n",
       "      <td>29</td>\n",
       "      <td>73004</td>\n",
       "    </tr>\n",
       "    <tr>\n",
       "      <th>4</th>\n",
       "      <td>9541</td>\n",
       "      <td>1013</td>\n",
       "      <td>73005</td>\n",
       "    </tr>\n",
       "  </tbody>\n",
       "</table>\n",
       "</div>"
      ],
      "text/plain": [
       "  Census Code Census Code (P0040003) Zip Code\n",
       "0         146                     64    67950\n",
       "1        1062                     45    73002\n",
       "2       20617                   1417    73003\n",
       "3         857                     29    73004\n",
       "4        9541                   1013    73005"
      ]
     },
     "execution_count": 3,
     "metadata": {},
     "output_type": "execute_result"
    }
   ],
   "source": [
    "url = 'http://api.census.gov/data/2010/sf1?get=P0010001,P0040003&for=zip+code+tabulation+area:*&in=state:40'\n",
    "response = requests.get(url).json()\n",
    "#print (response)\n",
    "census_variable_p0010001 = []\n",
    "census_variable_p0040003 = []\n",
    "zip_code = []\n",
    "counter = 0\n",
    "for data in response:\n",
    "    if (counter > 0):\n",
    "        census_variable_p0010001.append(data[0])\n",
    "        census_variable_p0040003.append(data[1])\n",
    "        zip_code.append(data[3])\n",
    "    counter = counter + 1\n",
    "\n",
    "zip_codes_for_state = {\"Census Code\" : census_variable_p0010001,\n",
    "                      \"Census Code (P0040003)\" : census_variable_p0040003,\n",
    "                      \"Zip Code\" : zip_code}\n",
    "zip_codes_for_state_df = pd.DataFrame(zip_codes_for_state)\n",
    "zip_codes_for_state_df.head()"
   ]
  },
  {
   "cell_type": "code",
   "execution_count": 4,
   "metadata": {},
   "outputs": [],
   "source": [
    "file_one = \"./Resources/UnemploymentReport.csv\"\n",
    "\n",
    "income_df = pd.read_csv(file_one)\n",
    "house_income = income_df[[\"Name\", \"Median Household Income (2016)\"]]\n",
    "house_income = house_income.dropna(how='any')\n"
   ]
  },
  {
   "cell_type": "code",
   "execution_count": 6,
   "metadata": {},
   "outputs": [],
   "source": [
    "cities = house_income[\"Name\"]\n",
    "g_lat = []\n",
    "g_lon= []\n",
    "g_name = []\n",
    "\n",
    "for city in cities:\n",
    "    target_url = ('https://maps.googleapis.com/maps/api/geocode/json?address={0}&key={1}').format(city, gkey)\n",
    "    geo_data = requests.get(target_url).json()\n",
    "    g_name.append(city)\n",
    "    g_lat.append(geo_data[\"results\"][0][\"geometry\"][\"location\"][\"lat\"])\n",
    "    g_lon.append(geo_data[\"results\"][0][\"geometry\"][\"location\"][\"lng\"])"
   ]
  },
  {
   "cell_type": "code",
   "execution_count": 7,
   "metadata": {},
   "outputs": [],
   "source": [
    "g_dict = {\"Name\": g_name,\n",
    "          \"g_lat\": g_lat,\n",
    "          \"g_lon\": g_lon}\n",
    "\n",
    "g_df = pd.DataFrame(g_dict)"
   ]
  },
  {
   "cell_type": "code",
   "execution_count": 8,
   "metadata": {},
   "outputs": [],
   "source": [
    "final_table = pd.merge(house_income, g_df, on=\"Name\", how=\"left\")\n",
    "final_table\n",
    "\n",
    "final_table.to_csv(\"./Resources/final_household_income.csv\", index=False, header = True)"
   ]
  },
  {
   "cell_type": "code",
   "execution_count": 9,
   "metadata": {},
   "outputs": [],
   "source": [
    "gmaps.configure(api_key=gkey)"
   ]
  },
  {
   "cell_type": "code",
   "execution_count": 10,
   "metadata": {},
   "outputs": [],
   "source": [
    "locations = final_table[[\"g_lat\", \"g_lon\"]].astype(float)\n",
    "\n",
    "household_income = final_table[\"Median Household Income (2016)\"].astype(float)"
   ]
  },
  {
   "cell_type": "code",
   "execution_count": 14,
   "metadata": {},
   "outputs": [
    {
     "data": {
      "application/vnd.jupyter.widget-view+json": {
       "model_id": "43001fd658e542319348c60d320564bc",
       "version_major": 2,
       "version_minor": 0
      },
      "text/plain": [
       "Figure(layout=FigureLayout(height='420px'))"
      ]
     },
     "metadata": {},
     "output_type": "display_data"
    }
   ],
   "source": [
    "fig = gmaps.figure()\n",
    "\n",
    "heat_layer = gmaps.heatmap_layer(locations, weights=household_income, \n",
    "                                 dissipating=False, max_intensity=100000,\n",
    "                                 point_radius = 1)\n",
    "\n",
    "\n",
    "heat_layer.dissipating = False\n",
    "heat_layer.max_intensity = 100000\n",
    "heat_layer.point_radius = .5\n",
    "\n",
    "fig.add_layer(heat_layer)\n",
    "\n",
    "fig"
   ]
  },
  {
   "cell_type": "code",
   "execution_count": 11,
   "metadata": {
    "scrolled": true
   },
   "outputs": [],
   "source": [
    "crime_data = pd.read_csv('./Resources/crime-report.csv', encoding=\"utf-8\")\n",
    "crime_data_ok = crime_data[crime_data['state_abbr'] == 'OK']\n",
    "crime_data_processed = pd.DataFrame()\n",
    "crime_data_processed['Agency Name'] = crime_data_ok['agency_name']\n",
    "crime_data_processed['County'] = crime_data_ok['primary_county']\n",
    "crime_data_processed['FIPS'] = crime_data_ok['primary_county_fips']\n",
    "clean_df = crime_data_processed.dropna()\n",
    "grouped_county_crime = clean_df.groupby(['County'])\n",
    "#print(grouped_county_crime.count())"
   ]
  },
  {
   "cell_type": "code",
   "execution_count": 92,
   "metadata": {},
   "outputs": [
    {
     "name": "stdout",
     "output_type": "stream",
     "text": [
      "                      County   FIPS Dropout Percentage\n",
      "3          Adair, OK          40001              20.5%\n",
      "4        Alfalfa, OK          40003              11.5%\n",
      "5          Atoka, OK          40005              18.2%\n",
      "6         Beaver, OK          40007              15.8%\n",
      "7        Beckham, OK          40009              15.5%\n",
      "8         Blaine, OK          40011              15.0%\n",
      "9          Bryan, OK          40013              13.9%\n",
      "10         Caddo, OK          40015              14.2%\n",
      "11      Canadian, OK          40017               8.2%\n",
      "12        Carter, OK          40019              13.5%\n",
      "13      Cherokee, OK          40021              14.3%\n",
      "14       Choctaw, OK          40023              19.4%\n",
      "15      Cimarron, OK          40025              15.5%\n",
      "16     Cleveland, OK          40027               8.7%\n",
      "17          Coal, OK          40029              17.1%\n",
      "18      Comanche, OK          40031              10.4%\n",
      "19        Cotton, OK          40033              12.3%\n",
      "20         Craig, OK          40035              14.4%\n",
      "21         Creek, OK          40037              13.7%\n",
      "22        Custer, OK          40039              12.1%\n",
      "23      Delaware, OK          40041              15.5%\n",
      "24         Dewey, OK          40043               9.5%\n",
      "25         Ellis, OK          40045              12.1%\n",
      "26      Garfield, OK          40047              12.8%\n",
      "27        Garvin, OK          40049              15.3%\n",
      "28         Grady, OK          40051              12.3%\n",
      "29         Grant, OK          40053               9.0%\n",
      "30         Greer, OK          40055              14.2%\n",
      "31        Harmon, OK          40057              23.0%\n",
      "32        Harper, OK          40059              18.0%\n",
      "..                       ...    ...                ...\n",
      "50      Marshall, OK          40095              19.7%\n",
      "51         Mayes, OK          40097              13.8%\n",
      "52        Murray, OK          40099              17.2%\n",
      "53      Muskogee, OK          40101              14.5%\n",
      "54         Noble, OK          40103              11.5%\n",
      "55        Nowata, OK          40105              14.3%\n",
      "56      Okfuskee, OK          40107              20.9%\n",
      "57      Oklahoma, OK          40109              13.6%\n",
      "58      Okmulgee, OK          40111              12.7%\n",
      "59         Osage, OK          40113              12.0%\n",
      "60        Ottawa, OK          40115              16.2%\n",
      "61        Pawnee, OK          40117              12.4%\n",
      "62         Payne, OK          40119               8.8%\n",
      "63     Pittsburg, OK          40121              13.9%\n",
      "64      Pontotoc, OK          40123              11.5%\n",
      "65  Pottawatomie, OK          40125              13.5%\n",
      "66    Pushmataha, OK          40127              17.8%\n",
      "67   Roger Mills, OK          40129               8.1%\n",
      "68        Rogers, OK          40131               8.7%\n",
      "69      Seminole, OK          40133              16.2%\n",
      "70      Sequoyah, OK          40135              18.5%\n",
      "71      Stephens, OK          40137              13.1%\n",
      "72         Texas, OK          40139              28.3%\n",
      "73       Tillman, OK          40141              22.3%\n",
      "74         Tulsa, OK          40143              11.2%\n",
      "75       Wagoner, OK          40145              10.4%\n",
      "76    Washington, OK          40147               9.2%\n",
      "77       Washita, OK          40149              11.9%\n",
      "78         Woods, OK          40151              12.1%\n",
      "79      Woodward, OK          40153              12.6%\n",
      "\n",
      "[77 rows x 3 columns]\n"
     ]
    }
   ],
   "source": [
    "highschool_dropout_data = pd.read_csv('./Resources/EducationReport-hd.csv', encoding=\"utf-8\")\n",
    "hs_data_processed = pd.DataFrame()\n",
    "#highschool_dropout_data.head()\n",
    "hs_data_processed['County'] = highschool_dropout_data['Unnamed: 1']\n",
    "hs_data_processed['FIPS'] = highschool_dropout_data['Unnamed: 0']\n",
    "hs_data_processed['Dropout Percentage'] = highschool_dropout_data['Unnamed: 8']\n",
    "\n",
    "clean_hs_df = hs_data_processed.dropna()\n",
    "temp_df = clean_hs_df[clean_hs_df['County'] != 'Name']\n",
    "temp_df2 = temp_df[temp_df['County'] != 'Oklahoma']\n",
    "print(temp_df2)"
   ]
  },
  {
   "cell_type": "code",
   "execution_count": 16,
   "metadata": {},
   "outputs": [
    {
     "ename": "KeyError",
     "evalue": "'schoolList'",
     "output_type": "error",
     "traceback": [
      "\u001b[1;31m---------------------------------------------------------------------------\u001b[0m",
      "\u001b[1;31mKeyError\u001b[0m                                  Traceback (most recent call last)",
      "\u001b[1;32m<ipython-input-16-70c5da15854f>\u001b[0m in \u001b[0;36m<module>\u001b[1;34m()\u001b[0m\n\u001b[0;32m     14\u001b[0m     \u001b[0mresponse\u001b[0m \u001b[1;33m=\u001b[0m \u001b[0mrequests\u001b[0m\u001b[1;33m.\u001b[0m\u001b[0mget\u001b[0m\u001b[1;33m(\u001b[0m\u001b[0mrequest_url\u001b[0m\u001b[1;33m)\u001b[0m\u001b[1;33m.\u001b[0m\u001b[0mjson\u001b[0m\u001b[1;33m(\u001b[0m\u001b[1;33m)\u001b[0m\u001b[1;33m\u001b[0m\u001b[0m\n\u001b[0;32m     15\u001b[0m     \u001b[1;31m#print(response)\u001b[0m\u001b[1;33m\u001b[0m\u001b[1;33m\u001b[0m\u001b[0m\n\u001b[1;32m---> 16\u001b[1;33m     \u001b[0mschools\u001b[0m \u001b[1;33m=\u001b[0m \u001b[0mresponse\u001b[0m\u001b[1;33m[\u001b[0m\u001b[1;34m'schoolList'\u001b[0m\u001b[1;33m]\u001b[0m\u001b[1;33m\u001b[0m\u001b[0m\n\u001b[0m\u001b[0;32m     17\u001b[0m     \u001b[1;32mfor\u001b[0m \u001b[0mschool\u001b[0m \u001b[1;32min\u001b[0m \u001b[0mschools\u001b[0m\u001b[1;33m:\u001b[0m\u001b[1;33m\u001b[0m\u001b[0m\n\u001b[0;32m     18\u001b[0m         \u001b[0mname\u001b[0m \u001b[1;33m=\u001b[0m \u001b[0mschool\u001b[0m\u001b[1;33m[\u001b[0m\u001b[1;34m'schoolName'\u001b[0m\u001b[1;33m]\u001b[0m\u001b[1;33m\u001b[0m\u001b[0m\n",
      "\u001b[1;31mKeyError\u001b[0m: 'schoolList'"
     ]
    }
   ],
   "source": [
    "school_name = []\n",
    "rating = []\n",
    "low_grade = []\n",
    "high_grade = []\n",
    "school_level = []\n",
    "county = []\n",
    "district = []\n",
    "year = []\n",
    "#for loop that will go through school per page and add info to dictionary\n",
    "for x in range(1,10):\n",
    "    count = 50 #every new page the counter equals 1\n",
    "    #calls the URL and gets json file\n",
    "    request_url =  f\"https://api.schooldigger.com/v1.1/rankings/schools/{state_abbr}?page={x}&perPage={count}&appID={app_id}&appKey={sd_api_key}\"\n",
    "    response = requests.get(request_url).json()\n",
    "    #print(response)\n",
    "    schools = response['schoolList']\n",
    "    for school in schools:\n",
    "        name = school['schoolName']\n",
    "        school_name.append(name)\n",
    "        try:\n",
    "            rating.append(school['rankHistory'][0]['rank'])\n",
    "            low_grade.append(school['lowGrade'])\n",
    "            high_grade.append(school['highGrade'])\n",
    "            school_level.append(school['schoolLevel'])\n",
    "            county.append(school['county']['countyName'])\n",
    "            district.append(school['district']['districtName'])\n",
    "            print(f\"Processed | {name}\")\n",
    "        except TypeError:\n",
    "            print(f\"Not Processed | {name}\")\n",
    "            \n",
    "        x = x + 1 #page increases\n",
    "\n",
    "#dictionary that will hold all data\n",
    "school_dict = {\"School Name\": school_name,\n",
    "              \"Ratings\": rating,\n",
    "              \"Low Grade\": low_grade,\n",
    "              \"High Grade\": high_grade,\n",
    "              \"Level\": school_level,\n",
    "              \"County\": county,\n",
    "              \"District\": district}\n",
    "\n",
    "#makes dictionary into DataFrame\n",
    "school_df = pd.DataFrame(school_dict)\n",
    "school_df.head()"
   ]
  },
  {
   "cell_type": "code",
   "execution_count": null,
   "metadata": {},
   "outputs": [],
   "source": []
  }
 ],
 "metadata": {
  "kernelspec": {
   "display_name": "Python 3",
   "language": "python",
   "name": "python3"
  },
  "language_info": {
   "codemirror_mode": {
    "name": "ipython",
    "version": 3
   },
   "file_extension": ".py",
   "mimetype": "text/x-python",
   "name": "python",
   "nbconvert_exporter": "python",
   "pygments_lexer": "ipython3",
   "version": "3.6.6"
  }
 },
 "nbformat": 4,
 "nbformat_minor": 2
}
